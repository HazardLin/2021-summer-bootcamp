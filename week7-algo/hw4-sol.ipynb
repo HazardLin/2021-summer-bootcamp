{
 "cells": [
  {
   "cell_type": "code",
   "execution_count": 17,
   "metadata": {},
   "outputs": [],
   "source": [
    "\"\"\"\n",
    "Q1. We use a 2d list to represent a lake. The island is completely surrounded by water,\n",
    "and there is exactly one island (i.e., one or more connected land cells).\n",
    "Determine the perimeter of the island.\n",
    "\n",
    "Input: [\n",
    "  [0,1,0,0],\n",
    "  [1,1,1,0],\n",
    "  [0,1,0,0],\n",
    "  [1,1,0,0]\n",
    "]\n",
    "\n",
    "Output: 16\n",
    "explain:\n",
    "    first row has 3 because the 1 at lake[0][1] has three faces connected to water and 1 face connect with lake[1][1].\n",
    "    second row has 6 because both lake[1][0] and lake[1][2] has 3 faces connected to water and lake[1][1] doesn't connect to water.\n",
    "    third row has 2 because lake[2][1] has 2 sides connected to water.\n",
    "    last row has 5 because lake[3][0] has 3 sides and lake[3][1] has 2 sides connected to water.\n",
    "\n",
    "Hint: BFS, DFS -> graph traversal\n",
    "\"\"\"\n",
    "\n",
    "\n",
    "# Simple Solution\n",
    "def count_perimeter(grid: [[int]]) -> int:\n",
    "    rows = len(grid)\n",
    "    cols = len(grid[0])\n",
    "\n",
    "    result = 0\n",
    "\n",
    "    for r in range(rows):\n",
    "        for c in range(cols):\n",
    "            if grid[r][c] == 1:\n",
    "                if r == 0:\n",
    "                    up = 0\n",
    "                else:\n",
    "                    up = grid[r - 1][c] # up = 0, up = 1 --> (1-up) = 1 / (1-up) = 0\n",
    "                    \n",
    "                if c == 0:\n",
    "                    left = 0\n",
    "                else:\n",
    "                    left = grid[r][c - 1]\n",
    "                    \n",
    "                if r == rows - 1:\n",
    "                    down = 0\n",
    "                else:\n",
    "                    down = grid[r + 1][c]\n",
    "                    \n",
    "                if c == cols - 1:\n",
    "                    right = 0\n",
    "                else:\n",
    "                    right = grid[r][c + 1]\n",
    "\n",
    "                result += 4 - (up + left + right + down)\n",
    "\n",
    "    return result\n",
    "\n",
    "\n",
    "test_grid = [\n",
    "    [0, 1, 0, 0],\n",
    "    [1, 1, 1, 0],\n",
    "    [0, 1, 0, 0],\n",
    "    [1, 1, 0, 0]\n",
    "]\n",
    "assert count_perimeter(test_grid) == 16"
   ]
  },
  {
   "cell_type": "code",
   "execution_count": 20,
   "metadata": {},
   "outputs": [],
   "source": [
    "\n",
    "\"\"\"\n",
    "Q2. Determine if a 9 x 9 Sudoku board is valid. \n",
    "\n",
    "Input: board = \n",
    "[\n",
    " [\"8\",\"3\",\".\",\".\",\"7\",\".\",\".\",\".\",\".\"],\n",
    " [\"6\",\".\",\".\",\"1\",\"9\",\"5\",\".\",\".\",\".\"],\n",
    " [\".\",\"9\",\"8\",\".\",\".\",\".\",\".\",\"6\",\".\"],\n",
    " [\"8\",\".\",\".\",\".\",\"6\",\".\",\".\",\".\",\"3\"],\n",
    " [\"4\",\".\",\".\",\"8\",\".\",\"3\",\".\",\".\",\"1\"],\n",
    " [\"7\",\".\",\".\",\".\",\"2\",\".\",\".\",\".\",\"6\"],\n",
    " [\".\",\"6\",\".\",\".\",\".\",\".\",\"2\",\"8\",\".\"],\n",
    " [\".\",\".\",\".\",\"4\",\"1\",\"9\",\".\",\".\",\"5\"],\n",
    " [\".\",\".\",\".\",\".\",\"8\",\".\",\".\",\"7\",\"9\"]\n",
    "]\n",
    "Output: false\n",
    "\n",
    "Explain:\n",
    "Each row must contain the digits 1-9 without repetition.\n",
    "Each column must contain the digits 1-9 without repetition.\n",
    "Each of the nine 3 x 3 sub-boxes of the grid must contain the digits 1-9 without repetition.\n",
    "\"\"\"\n",
    "\n",
    "\n",
    "def is_valid(board: [[str]]) -> bool:\n",
    "    N = 9\n",
    "\n",
    "    # Use an array to record the status\n",
    "    rows = [[0] * N for _ in range(N)] # 1->8 , 4->8\n",
    "    cols = [[0] * N for _ in range(N)] # 1->8, 1-> 8 not valid!\n",
    "    boxes = [[0] * N for _ in range(N)] # 1->8, 4-> 8\n",
    "\n",
    "    for r in range(N):\n",
    "        for c in range(N):\n",
    "            # Check if the position is filled with number\n",
    "            if board[r][c] == \".\":\n",
    "                continue\n",
    "\n",
    "            pos = int(board[r][c]) - 1\n",
    "\n",
    "            # Check the row\n",
    "            if rows[r][pos] == 1:\n",
    "                return False\n",
    "            rows[r][pos] = 1\n",
    "\n",
    "            # Check the column\n",
    "            if cols[c][pos] == 1:\n",
    "                return False\n",
    "            cols[c][pos] = 1\n",
    "\n",
    "            # Check the box\n",
    "            idx = (r // 3) * 3 + c // 3\n",
    "            if boxes[idx][pos] == 1:\n",
    "                return False\n",
    "            boxes[idx][pos] = 1\n",
    "\n",
    "    return True\n",
    "\n",
    "\n",
    "test_board = [\n",
    "    [\"8\", \"3\", \".\", \".\", \"7\", \".\", \".\", \".\", \".\"],\n",
    "    [\"6\", \".\", \".\", \"1\", \"9\", \"5\", \".\", \".\", \".\"],\n",
    "    [\".\", \"9\", \"8\", \".\", \".\", \".\", \".\", \"6\", \".\"],\n",
    "    [\"8\", \".\", \".\", \".\", \"6\", \".\", \".\", \".\", \"3\"],\n",
    "    [\"4\", \".\", \".\", \"8\", \".\", \"3\", \".\", \".\", \"1\"],\n",
    "    [\"7\", \".\", \".\", \".\", \"2\", \".\", \".\", \".\", \"6\"],\n",
    "    [\".\", \"6\", \".\", \".\", \".\", \".\", \"2\", \"8\", \".\"],\n",
    "    [\".\", \".\", \".\", \"4\", \"1\", \"9\", \".\", \".\", \"5\"],\n",
    "    [\".\", \".\", \".\", \".\", \"8\", \".\", \".\", \"7\", \"9\"]\n",
    "]\n",
    "\n",
    "assert is_valid(test_board) is False\n"
   ]
  },
  {
   "cell_type": "code",
   "execution_count": 22,
   "metadata": {},
   "outputs": [
    {
     "data": {
      "text/plain": [
       "0    1\n",
       "1    2\n",
       "2    3\n",
       "dtype: int64"
      ]
     },
     "execution_count": 22,
     "metadata": {},
     "output_type": "execute_result"
    }
   ],
   "source": [
    "import pandas as pd\n",
    "import numpy as np\n",
    "\n",
    "# Pandas\n",
    "# 1. How to get the items of series A not present in series B?\n",
    "ser1 = pd.Series([1, 2, 3, 4, 5])\n",
    "ser2 = pd.Series([4, 5, 6, 7, 8])\n",
    "\n",
    "ser1[~ser1.isin(ser2)]"
   ]
  },
  {
   "cell_type": "code",
   "execution_count": 24,
   "metadata": {},
   "outputs": [
    {
     "name": "stdout",
     "output_type": "stream",
     "text": [
      "0     e\n",
      "1     c\n",
      "2     d\n",
      "3     h\n",
      "4     e\n",
      "5     b\n",
      "6     g\n",
      "7     e\n",
      "8     a\n",
      "9     c\n",
      "10    h\n",
      "11    b\n",
      "12    f\n",
      "13    h\n",
      "14    e\n",
      "15    g\n",
      "16    h\n",
      "17    c\n",
      "18    e\n",
      "19    e\n",
      "20    h\n",
      "21    g\n",
      "22    e\n",
      "23    g\n",
      "24    b\n",
      "25    c\n",
      "26    g\n",
      "27    e\n",
      "28    e\n",
      "29    g\n",
      "dtype: object\n"
     ]
    },
    {
     "data": {
      "text/plain": [
       "e    9\n",
       "g    6\n",
       "h    5\n",
       "c    4\n",
       "b    3\n",
       "d    1\n",
       "f    1\n",
       "a    1\n",
       "dtype: int64"
      ]
     },
     "execution_count": 24,
     "metadata": {},
     "output_type": "execute_result"
    }
   ],
   "source": [
    "# 2. How to get frequency counts of unique items of a series?\n",
    "# Input\n",
    "ser = pd.Series(np.take(list('abcdefgh'), np.random.randint(8, size=30)))\n",
    "\n",
    "# Solution\n",
    "print(ser)\n",
    "ser.value_counts()"
   ]
  },
  {
   "cell_type": "code",
   "execution_count": 25,
   "metadata": {},
   "outputs": [
    {
     "data": {
      "text/plain": [
       "0    3\n",
       "1    2\n",
       "2    5\n",
       "3    7\n",
       "dtype: int64"
      ]
     },
     "execution_count": 25,
     "metadata": {},
     "output_type": "execute_result"
    }
   ],
   "source": [
    "\n",
    "# 3. How to calculate the number of characters in each word in a series?\n",
    "# Input\n",
    "ser = pd.Series(['how', 'to', 'write', 'python?'])\n",
    "\n",
    "# Solution\n",
    "ser.map(lambda x: len(x))"
   ]
  },
  {
   "cell_type": "code",
   "execution_count": 29,
   "metadata": {},
   "outputs": [
    {
     "name": "stdout",
     "output_type": "stream",
     "text": [
      "a    0\n",
      "b    1\n",
      "c    2\n",
      "e    3\n",
      "d    4\n",
      "dtype: int64\n",
      "  index  0\n",
      "0     a  0\n",
      "1     b  1\n",
      "2     c  2\n",
      "3     e  3\n",
      "4     d  4\n"
     ]
    }
   ],
   "source": [
    "# 4. How to convert the index of a series into a column of a dataframe?\n",
    "# Input\n",
    "mylist = list('abcedfghijklmnopqrstuvwxyz')\n",
    "myarr = np.arange(26)\n",
    "mydict = dict(zip(mylist, myarr))\n",
    "ser = pd.Series(mydict)\n",
    "print(ser.head())\n",
    "\n",
    "# Solution\n",
    "df = ser.to_frame().reset_index()\n",
    "print(df.head())"
   ]
  },
  {
   "cell_type": "code",
   "execution_count": 33,
   "metadata": {},
   "outputs": [
    {
     "name": "stdout",
     "output_type": "stream",
     "text": [
      "          A         B         C         D\n",
      "0  1.472250 -0.921203 -0.901355 -0.264333\n",
      "1 -0.396914 -0.272033 -0.768866  1.514689\n",
      "2 -1.272776 -2.228189 -1.079351  0.883530\n",
      "3 -2.099868  0.119315  0.202638  0.780064\n",
      "4  0.973687  0.411970 -0.234929 -0.612318\n",
      "           A         B         C         D\n",
      "0   1.472250 -0.921203 -0.901355 -0.264333\n",
      "20  0.980623  0.801256 -0.568561 -1.213752\n",
      "40  0.428187 -0.102010  0.075073 -0.849777\n",
      "60 -1.101240 -0.404382 -0.148449 -1.563322\n",
      "80 -0.520582 -0.640488 -0.391891  0.586808\n"
     ]
    }
   ],
   "source": [
    "# 5. How to filter every nth row in a dataframe?\n",
    "# Input\n",
    "df = pd.DataFrame(np.random.randn(100, 4), columns=list('ABCD'))\n",
    "print(df.head())\n",
    "\n",
    "# Solution\n",
    "print(df.iloc[::20, :])"
   ]
  },
  {
   "cell_type": "markdown",
   "metadata": {},
   "source": [
    "### Use Chinook-Sqlite.sqlite to test your query\n",
    "\n",
    "1. Provide a query showing Customers (just their full names, customer ID and country) who are not in the US.\n",
    "```\n",
    "SELECT \n",
    " FirstName,\n",
    " LastName, \n",
    " CustomerID, \n",
    " Country \n",
    "FROM Customer \n",
    "WHERE Country != 'USA'\n",
    "```\n",
    "\n",
    "2. Provide a query only showing the Customers from Brazil.\n",
    "```\n",
    "SELECT * \n",
    "FROM Customer \n",
    "WHERE Country = 'Brazil'\n",
    "```\n",
    "\n",
    "3. Provide a query showing a unique list of billing countries from the Invoice table.\n",
    "\n",
    "\n",
    "```\n",
    "SELECT DISTINCT BillingCountry  \n",
    "FROM Invoice\n",
    "```\n",
    "\n",
    "4. Provide a query showing only the Employees who are Sales Agents.\n",
    "```\n",
    "SELECT\n",
    "  *\n",
    "FROM Employee\n",
    "WHERE Employee.Title = 'Sales Support Agent'\n",
    "```\n",
    "\n",
    "5. ~~Provide a query showing a unique list of billing countries from the Invoice table.~~\n"
   ]
  },
  {
   "cell_type": "code",
   "execution_count": null,
   "metadata": {},
   "outputs": [],
   "source": []
  }
 ],
 "metadata": {
  "kernelspec": {
   "display_name": "Python 3",
   "language": "python",
   "name": "python3"
  },
  "language_info": {
   "codemirror_mode": {
    "name": "ipython",
    "version": 3
   },
   "file_extension": ".py",
   "mimetype": "text/x-python",
   "name": "python",
   "nbconvert_exporter": "python",
   "pygments_lexer": "ipython3",
   "version": "3.7.3"
  }
 },
 "nbformat": 4,
 "nbformat_minor": 2
}
